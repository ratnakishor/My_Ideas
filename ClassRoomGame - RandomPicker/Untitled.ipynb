{
 "cells": [
  {
   "cell_type": "code",
   "execution_count": 3,
   "id": "62e00656-e6d7-4cf1-a22f-d30d0238a49d",
   "metadata": {},
   "outputs": [],
   "source": [
    "import pandas as pd\n",
    "import streamlit as st"
   ]
  },
  {
   "cell_type": "code",
   "execution_count": 2,
   "id": "304263e3-a008-45f3-9657-43e3e904ad24",
   "metadata": {},
   "outputs": [
    {
     "data": {
      "text/html": [
       "<div>\n",
       "<style scoped>\n",
       "    .dataframe tbody tr th:only-of-type {\n",
       "        vertical-align: middle;\n",
       "    }\n",
       "\n",
       "    .dataframe tbody tr th {\n",
       "        vertical-align: top;\n",
       "    }\n",
       "\n",
       "    .dataframe thead th {\n",
       "        text-align: right;\n",
       "    }\n",
       "</style>\n",
       "<table border=\"1\" class=\"dataframe\">\n",
       "  <thead>\n",
       "    <tr style=\"text-align: right;\">\n",
       "      <th></th>\n",
       "      <th>Roll.No</th>\n",
       "      <th>Student Name</th>\n",
       "      <th>Gender</th>\n",
       "    </tr>\n",
       "  </thead>\n",
       "  <tbody>\n",
       "    <tr>\n",
       "      <th>0</th>\n",
       "      <td>21A81A0567</td>\n",
       "      <td>ADIMULAM GIRESH RAJU</td>\n",
       "      <td>M</td>\n",
       "    </tr>\n",
       "    <tr>\n",
       "      <th>1</th>\n",
       "      <td>21A81A0568</td>\n",
       "      <td>ALLADA LAKSHMI SAROJA DEVI</td>\n",
       "      <td>F</td>\n",
       "    </tr>\n",
       "    <tr>\n",
       "      <th>2</th>\n",
       "      <td>21A81A0569</td>\n",
       "      <td>AREPALLI SHAKEENA</td>\n",
       "      <td>F</td>\n",
       "    </tr>\n",
       "    <tr>\n",
       "      <th>3</th>\n",
       "      <td>21A81A0570</td>\n",
       "      <td>ARJA LIKITHA</td>\n",
       "      <td>F</td>\n",
       "    </tr>\n",
       "    <tr>\n",
       "      <th>4</th>\n",
       "      <td>21A81A0571</td>\n",
       "      <td>ATTILI PRASHANTHI</td>\n",
       "      <td>F</td>\n",
       "    </tr>\n",
       "  </tbody>\n",
       "</table>\n",
       "</div>"
      ],
      "text/plain": [
       "      Roll.No                Student Name Gender\n",
       "0  21A81A0567        ADIMULAM GIRESH RAJU      M\n",
       "1  21A81A0568  ALLADA LAKSHMI SAROJA DEVI      F\n",
       "2  21A81A0569           AREPALLI SHAKEENA      F\n",
       "3  21A81A0570                ARJA LIKITHA      F\n",
       "4  21A81A0571           ATTILI PRASHANTHI      F"
      ]
     },
     "execution_count": 2,
     "metadata": {},
     "output_type": "execute_result"
    }
   ],
   "source": [
    "pathB = r\"D:\\GoogleDrive\\Projects\\ClassRoomGame\\V21-CSE-B.xlsx\"\n",
    "pathC = r\"D:\\GoogleDrive\\Projects\\ClassRoomGame\\V21-CSE-C.xlsx\"\n",
    "section = st.selectbox([\"Class B\", \"Class C\"])\n",
    "p\n",
    "df = pd.read_excel(path)\n",
    "df.head()"
   ]
  },
  {
   "cell_type": "code",
   "execution_count": null,
   "id": "b87a1ccc-097a-4466-a524-e88c38c2cbc4",
   "metadata": {},
   "outputs": [],
   "source": []
  }
 ],
 "metadata": {
  "kernelspec": {
   "display_name": "Python 3 (ipykernel)",
   "language": "python",
   "name": "python3"
  },
  "language_info": {
   "codemirror_mode": {
    "name": "ipython",
    "version": 3
   },
   "file_extension": ".py",
   "mimetype": "text/x-python",
   "name": "python",
   "nbconvert_exporter": "python",
   "pygments_lexer": "ipython3",
   "version": "3.11.5"
  }
 },
 "nbformat": 4,
 "nbformat_minor": 5
}
